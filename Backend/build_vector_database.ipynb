{
 "cells": [
  {
   "cell_type": "code",
   "execution_count": 1,
   "id": "6c66af0e",
   "metadata": {},
   "outputs": [
    {
     "data": {
      "text/plain": [
       "True"
      ]
     },
     "execution_count": 1,
     "metadata": {},
     "output_type": "execute_result"
    }
   ],
   "source": [
    "from pinecone import Pinecone, ServerlessSpec\n",
    "import os\n",
    "import pandas as pd\n",
    "from time import time\n",
    "import dotenv\n",
    "from langchain_community.embeddings import HuggingFaceEmbeddings\n",
    "dotenv.load_dotenv()\n"
   ]
  },
  {
   "cell_type": "code",
   "execution_count": 2,
   "id": "8c5cb20f",
   "metadata": {},
   "outputs": [],
   "source": [
    "pinecone_api_key = os.getenv(\"PINECONE_API_KEY\")\n",
    "model_name = \"sentence-transformers/all-MiniLM-L6-v2\" "
   ]
  },
  {
   "cell_type": "code",
   "execution_count": 3,
   "id": "da432083",
   "metadata": {},
   "outputs": [
    {
     "name": "stderr",
     "output_type": "stream",
     "text": [
      "C:\\Users\\Admin\\AppData\\Local\\Temp\\ipykernel_17112\\2014603687.py:3: LangChainDeprecationWarning: The class `HuggingFaceEmbeddings` was deprecated in LangChain 0.2.2 and will be removed in 1.0. An updated version of the class exists in the :class:`~langchain-huggingface package and should be used instead. To use it run `pip install -U :class:`~langchain-huggingface` and import as `from :class:`~langchain_huggingface import HuggingFaceEmbeddings``.\n",
      "  embedding_model = HuggingFaceEmbeddings(model_name=model_name)\n",
      "C:\\Users\\Admin\\AppData\\Roaming\\Python\\Python311\\site-packages\\torch\\utils\\_pytree.py:185: FutureWarning: optree is installed but the version is too old to support PyTorch Dynamo in C++ pytree. C++ pytree support is disabled. Please consider upgrading optree using `python3 -m pip install --upgrade 'optree>=0.13.0'`.\n",
      "  warnings.warn(\n"
     ]
    },
    {
     "name": "stdout",
     "output_type": "stream",
     "text": [
      "WARNING:tensorflow:From C:\\Users\\Admin\\AppData\\Roaming\\Python\\Python311\\site-packages\\keras\\src\\losses.py:2976: The name tf.losses.sparse_softmax_cross_entropy is deprecated. Please use tf.compat.v1.losses.sparse_softmax_cross_entropy instead.\n",
      "\n"
     ]
    }
   ],
   "source": [
    "pc = Pinecone(api_key=pinecone_api_key)\n",
    "\n",
    "embedding_model = HuggingFaceEmbeddings(model_name=model_name)"
   ]
  },
  {
   "cell_type": "markdown",
   "id": "c1006b63",
   "metadata": {},
   "source": [
    "## Try out embeddings"
   ]
  },
  {
   "cell_type": "code",
   "execution_count": 4,
   "id": "bb120d1c",
   "metadata": {
    "scrolled": true
   },
   "outputs": [
    {
     "data": {
      "text/plain": [
       "[-0.07149805873632431,\n",
       " 0.05053558945655823,\n",
       " 0.009315689094364643,\n",
       " 0.07794801145792007,\n",
       " -0.05504470318555832,\n",
       " -0.08670640736818314,\n",
       " 0.062370289117097855,\n",
       " 0.021486937999725342,\n",
       " -0.05310399830341339,\n",
       " 0.01443465519696474,\n",
       " 0.009361579082906246,\n",
       " -0.016171343624591827,\n",
       " -0.07071266323328018,\n",
       " -0.013639172539114952,\n",
       " -0.028334571048617363,\n",
       " 0.03151993080973625,\n",
       " 0.06559285521507263,\n",
       " 0.0188792422413826,\n",
       " -0.1317654699087143,\n",
       " 0.022574087604880333,\n",
       " -0.01794448308646679,\n",
       " 0.02280488796532154,\n",
       " -0.1425701081752777,\n",
       " 0.06657303124666214,\n",
       " -0.06678564846515656,\n",
       " -0.06102047115564346,\n",
       " 0.022202422842383385,\n",
       " 0.05682176351547241,\n",
       " -0.03793434426188469,\n",
       " 0.01472124271094799,\n",
       " -0.030035153031349182,\n",
       " 0.08263616263866425,\n",
       " 0.06364276260137558,\n",
       " 0.04875898361206055,\n",
       " 0.03309981897473335,\n",
       " 0.024811426177620888,\n",
       " -0.07450362294912338,\n",
       " -0.06536608934402466,\n",
       " 0.033822279423475266,\n",
       " -0.022015586495399475,\n",
       " 0.014845259487628937,\n",
       " -0.033400602638721466,\n",
       " 0.02044857107102871,\n",
       " -0.041234295815229416,\n",
       " 0.02439335361123085,\n",
       " -0.03535648062825203,\n",
       " 0.039647702127695084,\n",
       " -0.026604052633047104,\n",
       " 0.11356667429208755,\n",
       " -0.009528710506856441,\n",
       " -0.06305243819952011,\n",
       " -0.07883789390325546,\n",
       " -0.10701660811901093,\n",
       " -0.004459488205611706,\n",
       " 0.1350872814655304,\n",
       " 0.02356940321624279,\n",
       " -0.001166927395388484,\n",
       " -0.04708371311426163,\n",
       " 0.05440260469913483,\n",
       " -0.0436493381857872,\n",
       " -0.046776533126831055,\n",
       " 0.025008920580148697,\n",
       " -0.012628990225493908,\n",
       " -0.00977740902453661,\n",
       " 0.06970644742250443,\n",
       " -0.07209496200084686,\n",
       " -0.03979059308767319,\n",
       " -0.030935542657971382,\n",
       " -0.03936883062124252,\n",
       " -0.05773688852787018,\n",
       " -0.017979800701141357,\n",
       " 0.016189927235245705,\n",
       " 0.012551316991448402,\n",
       " 0.02856305055320263,\n",
       " -0.028172951191663742,\n",
       " 0.03171176835894585,\n",
       " 0.05311351642012596,\n",
       " 0.06416083872318268,\n",
       " -0.024519024416804314,\n",
       " -0.08574501425027847,\n",
       " 0.06855227798223495,\n",
       " -0.10734737664461136,\n",
       " -0.00920796673744917,\n",
       " -0.002836504252627492,\n",
       " -0.031302403658628464,\n",
       " 0.029825709760189056,\n",
       " 0.0479717031121254,\n",
       " 0.02721080556511879,\n",
       " -0.014851212501525879,\n",
       " -0.00875373650342226,\n",
       " -0.07342906296253204,\n",
       " 0.03290453553199768,\n",
       " 0.0033995914272964,\n",
       " -0.04902852699160576,\n",
       " -0.049245789647102356,\n",
       " -0.03423101827502251,\n",
       " 0.07349836826324463,\n",
       " 0.014323734678328037,\n",
       " -0.06355057656764984,\n",
       " 0.16670729219913483,\n",
       " 0.05599076300859451,\n",
       " 0.05891718715429306,\n",
       " 0.04115064814686775,\n",
       " 0.03768904134631157,\n",
       " 0.009162666276097298,\n",
       " 0.0226085614413023,\n",
       " -0.05310952290892601,\n",
       " 0.023372557014226913,\n",
       " -0.011422290466725826,\n",
       " 0.019698090851306915,\n",
       " -0.042939577251672745,\n",
       " 0.0064642587676644325,\n",
       " 0.05833369866013527,\n",
       " 0.034687116742134094,\n",
       " 0.06252966821193695,\n",
       " -0.008588711731135845,\n",
       " 0.034196387976408005,\n",
       " 0.04201238974928856,\n",
       " 0.029602978378534317,\n",
       " -0.01619536802172661,\n",
       " 0.03224300220608711,\n",
       " -0.044209692627191544,\n",
       " -0.0208008773624897,\n",
       " 0.025527946650981903,\n",
       " 0.02094062604010105,\n",
       " -0.04329420253634453,\n",
       " -0.006983569823205471,\n",
       " 1.1129705409860193e-33,\n",
       " 0.04860316216945648,\n",
       " -0.0022808893118053675,\n",
       " 0.02390468679368496,\n",
       " 0.09395032376050949,\n",
       " 0.035324130207300186,\n",
       " -0.012506569735705853,\n",
       " -0.09708749502897263,\n",
       " -0.023831825703382492,\n",
       " 0.01658337563276291,\n",
       " 0.01696101576089859,\n",
       " -0.05072816088795662,\n",
       " 0.03421170264482498,\n",
       " -0.03815711289644241,\n",
       " 0.03645767271518707,\n",
       " 0.09780873358249664,\n",
       " 0.06293442100286484,\n",
       " -0.05201895534992218,\n",
       " 0.06985386461019516,\n",
       " -0.04509526863694191,\n",
       " 0.02250821143388748,\n",
       " -0.04567008465528488,\n",
       " -0.03327365964651108,\n",
       " 0.023859603330492973,\n",
       " 0.011592986062169075,\n",
       " 0.00591727439314127,\n",
       " 0.09227203577756882,\n",
       " 0.04773319885134697,\n",
       " -0.09092015027999878,\n",
       " 0.02731182612478733,\n",
       " 0.03174402937293053,\n",
       " -0.0745949074625969,\n",
       " 0.050756070762872696,\n",
       " 0.003427692921832204,\n",
       " 0.04169344902038574,\n",
       " -0.03723080828785896,\n",
       " -0.03844967484474182,\n",
       " -0.008406509645283222,\n",
       " -0.0488024577498436,\n",
       " -0.036178119480609894,\n",
       " 0.017814677208662033,\n",
       " -0.03929523378610611,\n",
       " 0.0099614467471838,\n",
       " -0.012999143451452255,\n",
       " 0.005942848976701498,\n",
       " 0.05472229793667793,\n",
       " -0.020126748830080032,\n",
       " 0.030716700479388237,\n",
       " -0.011470416560769081,\n",
       " 0.08534600585699081,\n",
       " -0.002997532021254301,\n",
       " -0.07345311343669891,\n",
       " 0.004184441175311804,\n",
       " -0.09103171527385712,\n",
       " 0.02706153318285942,\n",
       " -0.04747750982642174,\n",
       " -0.0013655415968969464,\n",
       " 0.021000264212489128,\n",
       " -0.014043841511011124,\n",
       " 0.07810881733894348,\n",
       " -0.03966837376356125,\n",
       " 0.07112454622983932,\n",
       " 0.12127140164375305,\n",
       " -0.06105275824666023,\n",
       " -0.0493340902030468,\n",
       " -0.09606543928384781,\n",
       " -0.07455795258283615,\n",
       " 0.045944590121507645,\n",
       " -0.01139107346534729,\n",
       " 0.05931640788912773,\n",
       " -0.02692367509007454,\n",
       " -0.007540321443229914,\n",
       " -0.0027374320197850466,\n",
       " -0.01856939308345318,\n",
       " -0.005286258179694414,\n",
       " -0.0015648686094209552,\n",
       " 0.018193339928984642,\n",
       " 0.03895420953631401,\n",
       " -0.031134145334362984,\n",
       " 0.023493625223636627,\n",
       " -0.06659097224473953,\n",
       " 0.04494660720229149,\n",
       " -0.00199669087305665,\n",
       " -0.0021611806005239487,\n",
       " 0.03930043801665306,\n",
       " 0.04412822052836418,\n",
       " -0.007181570865213871,\n",
       " 0.016765408217906952,\n",
       " -0.11184479296207428,\n",
       " -0.04573441296815872,\n",
       " -0.02121099643409252,\n",
       " -0.007326107006520033,\n",
       " 0.07881543785333633,\n",
       " 0.05843520537018776,\n",
       " -0.05001528188586235,\n",
       " -0.01871097832918167,\n",
       " -1.230068329098143e-33,\n",
       " 0.139485701918602,\n",
       " 0.009061818942427635,\n",
       " -0.006489250343292952,\n",
       " -0.043657343834638596,\n",
       " 0.013142759911715984,\n",
       " 0.0015672664158046246,\n",
       " -0.06429482996463776,\n",
       " 0.04945291578769684,\n",
       " -0.062286052852869034,\n",
       " 0.01904473640024662,\n",
       " 0.03700675815343857,\n",
       " 0.0013478704495355487,\n",
       " 0.0921616181731224,\n",
       " 0.004547118209302425,\n",
       " 0.06444007158279419,\n",
       " 0.07726027816534042,\n",
       " 0.1116781085729599,\n",
       " 0.07917548716068268,\n",
       " -0.07482995092868805,\n",
       " -0.05767303705215454,\n",
       " -0.028136977925896645,\n",
       " -0.032260287553071976,\n",
       " 0.053145285695791245,\n",
       " -0.007199793588370085,\n",
       " 0.03415564075112343,\n",
       " -0.04653804004192352,\n",
       " 0.014968110248446465,\n",
       " 0.05745229125022888,\n",
       " -0.12816788256168365,\n",
       " 0.003029836341738701,\n",
       " 0.061884064227342606,\n",
       " 0.006236061453819275,\n",
       " -0.046865127980709076,\n",
       " -0.0370006188750267,\n",
       " 0.06731007248163223,\n",
       " 0.052476897835731506,\n",
       " 0.0006382510182447731,\n",
       " -0.024188077077269554,\n",
       " 0.056740906089544296,\n",
       " -0.009624778293073177,\n",
       " -0.037291910499334335,\n",
       " -0.005208128597587347,\n",
       " -0.041866376996040344,\n",
       " 0.021103298291563988,\n",
       " -0.0382060669362545,\n",
       " -0.04884546995162964,\n",
       " -0.029094962403178215,\n",
       " -0.010184257291257381,\n",
       " -0.010624405927956104,\n",
       " 0.03829400613903999,\n",
       " -0.04583973065018654,\n",
       " -0.057024285197257996,\n",
       " -0.061006128787994385,\n",
       " 0.032077521085739136,\n",
       " -0.04879184439778328,\n",
       " 0.03373926505446434,\n",
       " 0.02074347995221615,\n",
       " 0.0005201716558076441,\n",
       " 8.176948176696897e-05,\n",
       " -0.012602768838405609,\n",
       " 0.006347640883177519,\n",
       " 0.035485584288835526,\n",
       " 0.042392365634441376,\n",
       " 0.08684822916984558,\n",
       " -0.0016979597276076674,\n",
       " 0.09162059426307678,\n",
       " -0.05285362899303436,\n",
       " 0.04487410932779312,\n",
       " -0.030917249619960785,\n",
       " 0.02319539152085781,\n",
       " 0.0404713936150074,\n",
       " 0.004508758429437876,\n",
       " -0.018133405596017838,\n",
       " -0.03055330365896225,\n",
       " 0.03909735754132271,\n",
       " -0.0021772754844278097,\n",
       " -0.016920171678066254,\n",
       " 0.08131150156259537,\n",
       " -0.01934957131743431,\n",
       " -0.021644549444317818,\n",
       " 0.008730974979698658,\n",
       " -0.0001696732360869646,\n",
       " 0.003827727632597089,\n",
       " 0.04059144854545593,\n",
       " -0.005013143643736839,\n",
       " -0.021960878744721413,\n",
       " 0.043588437139987946,\n",
       " 0.060398198664188385,\n",
       " 0.05449555441737175,\n",
       " -0.10543222725391388,\n",
       " 0.06225116178393364,\n",
       " -0.008094747550785542,\n",
       " -0.04200464487075806,\n",
       " 0.02464669570326805,\n",
       " -0.0373266227543354,\n",
       " -1.814980343795014e-08,\n",
       " 0.005703952629119158,\n",
       " -0.022624872624874115,\n",
       " 0.09000643342733383,\n",
       " 0.020821312442421913,\n",
       " 0.02794697694480419,\n",
       " 0.07747253775596619,\n",
       " -0.056066520512104034,\n",
       " -0.08432072401046753,\n",
       " 0.03198673948645592,\n",
       " 0.05895059183239937,\n",
       " 0.1288810819387436,\n",
       " 0.0419142059981823,\n",
       " -0.05021647363901138,\n",
       " 0.024991678074002266,\n",
       " 0.07371612638235092,\n",
       " 0.038927994668483734,\n",
       " -0.07454606890678406,\n",
       " 0.01938423328101635,\n",
       " -0.028223082423210144,\n",
       " -0.040845416486263275,\n",
       " 0.025729386135935783,\n",
       " 0.06564129143953323,\n",
       " 0.009005282074213028,\n",
       " -0.10557037591934204,\n",
       " 0.018802454695105553,\n",
       " 0.011941722594201565,\n",
       " 0.004832173697650433,\n",
       " 0.007360094226896763,\n",
       " -0.09854357689619064,\n",
       " 0.002115195617079735,\n",
       " -0.048840902745723724,\n",
       " 0.09323342144489288,\n",
       " -0.04169542342424393,\n",
       " 0.002383336890488863,\n",
       " -0.031265195459127426,\n",
       " 0.022303389385342598,\n",
       " -0.07389307767152786,\n",
       " 0.04226922616362572,\n",
       " 0.058483101427555084,\n",
       " -0.09932244569063187,\n",
       " -0.05482921376824379,\n",
       " -0.04582671821117401,\n",
       " 0.03674503415822983,\n",
       " -0.08518559485673904,\n",
       " -0.07339929044246674,\n",
       " 0.03554590418934822,\n",
       " 0.048786062747240067,\n",
       " -0.07743039727210999,\n",
       " -0.024439435452222824,\n",
       " -0.12519969046115875,\n",
       " 0.009909351356327534,\n",
       " 0.059851523488759995,\n",
       " 0.040975917130708694,\n",
       " 0.07645142078399658,\n",
       " 0.0951128751039505,\n",
       " 0.037214867770671844,\n",
       " 0.03471633419394493,\n",
       " -0.007064510136842728,\n",
       " -0.08089429140090942,\n",
       " 0.029975952580571175,\n",
       " 0.054700516164302826,\n",
       " -0.0024621349293738604,\n",
       " 0.09452012926340103,\n",
       " 0.034654390066862106]"
      ]
     },
     "execution_count": 4,
     "metadata": {},
     "output_type": "execute_result"
    }
   ],
   "source": [
    "\n",
    "embeddings = embedding_model.embed_documents([\"helloo there\"])\n",
    "embeddings[0]"
   ]
  },
  {
   "cell_type": "code",
   "execution_count": 5,
   "id": "29e9587b",
   "metadata": {},
   "outputs": [
    {
     "data": {
      "text/plain": [
       "384"
      ]
     },
     "execution_count": 5,
     "metadata": {},
     "output_type": "execute_result"
    }
   ],
   "source": [
    "len(embeddings[0])"
   ]
  },
  {
   "cell_type": "markdown",
   "id": "9b8b80de",
   "metadata": {},
   "source": [
    "## Wrangle dataset"
   ]
  },
  {
   "cell_type": "code",
   "execution_count": 6,
   "id": "5e2e1be8",
   "metadata": {},
   "outputs": [],
   "source": [
    "df=pd.read_json('products/products.jsonl',lines=True)"
   ]
  },
  {
   "cell_type": "code",
   "execution_count": 7,
   "id": "dbffeb98",
   "metadata": {},
   "outputs": [
    {
     "data": {
      "text/html": [
       "<div>\n",
       "<style scoped>\n",
       "    .dataframe tbody tr th:only-of-type {\n",
       "        vertical-align: middle;\n",
       "    }\n",
       "\n",
       "    .dataframe tbody tr th {\n",
       "        vertical-align: top;\n",
       "    }\n",
       "\n",
       "    .dataframe thead th {\n",
       "        text-align: right;\n",
       "    }\n",
       "</style>\n",
       "<table border=\"1\" class=\"dataframe\">\n",
       "  <thead>\n",
       "    <tr style=\"text-align: right;\">\n",
       "      <th></th>\n",
       "      <th>name</th>\n",
       "      <th>category</th>\n",
       "      <th>description</th>\n",
       "      <th>ingredients</th>\n",
       "      <th>price</th>\n",
       "      <th>rating</th>\n",
       "      <th>image_path</th>\n",
       "    </tr>\n",
       "  </thead>\n",
       "  <tbody>\n",
       "    <tr>\n",
       "      <th>0</th>\n",
       "      <td>Cappuccino</td>\n",
       "      <td>Coffee</td>\n",
       "      <td>A rich and creamy cappuccino made with freshly...</td>\n",
       "      <td>[Espresso, Steamed Milk, Milk Foam]</td>\n",
       "      <td>4.50</td>\n",
       "      <td>4.7</td>\n",
       "      <td>cappuccino.jpg</td>\n",
       "    </tr>\n",
       "    <tr>\n",
       "      <th>1</th>\n",
       "      <td>Jumbo Savory Scone</td>\n",
       "      <td>Bakery</td>\n",
       "      <td>Deliciously flaky and buttery, this jumbo savo...</td>\n",
       "      <td>[Flour, Butter, Cheese, Herbs, Baking Powder, ...</td>\n",
       "      <td>3.25</td>\n",
       "      <td>4.3</td>\n",
       "      <td>SavoryScone.webp</td>\n",
       "    </tr>\n",
       "  </tbody>\n",
       "</table>\n",
       "</div>"
      ],
      "text/plain": [
       "                 name category  \\\n",
       "0          Cappuccino   Coffee   \n",
       "1  Jumbo Savory Scone   Bakery   \n",
       "\n",
       "                                         description  \\\n",
       "0  A rich and creamy cappuccino made with freshly...   \n",
       "1  Deliciously flaky and buttery, this jumbo savo...   \n",
       "\n",
       "                                         ingredients  price  rating  \\\n",
       "0                [Espresso, Steamed Milk, Milk Foam]   4.50     4.7   \n",
       "1  [Flour, Butter, Cheese, Herbs, Baking Powder, ...   3.25     4.3   \n",
       "\n",
       "         image_path  \n",
       "0    cappuccino.jpg  \n",
       "1  SavoryScone.webp  "
      ]
     },
     "execution_count": 7,
     "metadata": {},
     "output_type": "execute_result"
    }
   ],
   "source": [
    "df.head(2)"
   ]
  },
  {
   "cell_type": "code",
   "execution_count": null,
   "id": "1cc39471",
   "metadata": {},
   "outputs": [],
   "source": []
  },
  {
   "cell_type": "code",
   "execution_count": 8,
   "id": "d9ea042d",
   "metadata": {},
   "outputs": [],
   "source": [
    "df['text'] =  df['name']+\" : \"+df['description'] + \\\n",
    "                \" -- Ingredients: \" + df['ingredients'].astype(str) + \\\n",
    "                \" -- Price: \" + df['price'].astype(str) + \\\n",
    "                \" -- rating: \" + df['rating'].astype(str) "
   ]
  },
  {
   "cell_type": "code",
   "execution_count": 9,
   "id": "e0254a83",
   "metadata": {},
   "outputs": [
    {
     "data": {
      "text/plain": [
       "0    Cappuccino : A rich and creamy cappuccino made...\n",
       "1    Jumbo Savory Scone : Deliciously flaky and but...\n",
       "2    Latte : Smooth and creamy, our latte combines ...\n",
       "3    Chocolate Chip Biscotti : Crunchy and delightf...\n",
       "4    Espresso shot : A bold shot of rich espresso, ...\n",
       "Name: text, dtype: object"
      ]
     },
     "execution_count": 9,
     "metadata": {},
     "output_type": "execute_result"
    }
   ],
   "source": [
    "df['text'].head()"
   ]
  },
  {
   "cell_type": "code",
   "execution_count": 10,
   "id": "54a8a7cc",
   "metadata": {},
   "outputs": [],
   "source": [
    "texts = df['text'].tolist()"
   ]
  },
  {
   "cell_type": "code",
   "execution_count": 11,
   "id": "70926dfa",
   "metadata": {},
   "outputs": [
    {
     "data": {
      "text/plain": [
       "18"
      ]
     },
     "execution_count": 11,
     "metadata": {},
     "output_type": "execute_result"
    }
   ],
   "source": [
    "len(texts)"
   ]
  },
  {
   "cell_type": "code",
   "execution_count": null,
   "id": "89e73365",
   "metadata": {},
   "outputs": [],
   "source": [
    "\n",
    "with open('products/Coffee_Ghar_about_us.txt') as f:\n",
    "    Coffee_Ghar_about_section = f.read()\n",
    "    \n",
    "Coffee_Ghar_about_section = \"Coffee shop Coffee Ghar about section: \" + Coffee_Ghar_about_section\n",
    "texts.append(Coffee_Ghar_about_section)"
   ]
  },
  {
   "cell_type": "code",
   "execution_count": 13,
   "id": "89c92467",
   "metadata": {},
   "outputs": [],
   "source": [
    "with open('products/menu_items_text.txt') as f:\n",
    "    menue_items_text = f.read()\n",
    "    \n",
    "menue_items_text = \"Menu Items: \" + menue_items_text\n",
    "texts.append(menue_items_text)"
   ]
  },
  {
   "cell_type": "markdown",
   "id": "12e041b1",
   "metadata": {},
   "source": [
    "## Generate Embeddings"
   ]
  },
  {
   "cell_type": "code",
   "execution_count": 14,
   "id": "d4995842",
   "metadata": {},
   "outputs": [],
   "source": [
    "embeddings = embedding_model.embed_documents(texts)\n"
   ]
  },
  {
   "cell_type": "code",
   "execution_count": 15,
   "id": "66c3ea5e",
   "metadata": {},
   "outputs": [
    {
     "data": {
      "text/plain": [
       "20"
      ]
     },
     "execution_count": 15,
     "metadata": {},
     "output_type": "execute_result"
    }
   ],
   "source": [
    "len(embeddings)"
   ]
  },
  {
   "cell_type": "markdown",
   "id": "b63f8308",
   "metadata": {},
   "source": [
    "## Push data to database"
   ]
  },
  {
   "cell_type": "code",
   "execution_count": 16,
   "id": "5a255797",
   "metadata": {},
   "outputs": [],
   "source": [
    "index_name = \"coffeeshop\"\n",
    "\n",
    "pc.create_index(\n",
    "    name=index_name,\n",
    "    dimension=384, # Replace with your model dimensions\n",
    "    metric=\"cosine\", # Replace with your model metric\n",
    "    spec=ServerlessSpec(\n",
    "        cloud=\"aws\",\n",
    "        region=\"us-east-1\"\n",
    "    ) \n",
    ")"
   ]
  },
  {
   "cell_type": "code",
   "execution_count": 17,
   "id": "e742460e",
   "metadata": {},
   "outputs": [
    {
     "data": {
      "text/plain": [
       "{'upserted_count': 20}"
      ]
     },
     "execution_count": 17,
     "metadata": {},
     "output_type": "execute_result"
    }
   ],
   "source": [
    "# Wait for the index to be ready\n",
    "while not pc.describe_index(index_name).status['ready']:\n",
    "    time.sleep(1)\n",
    "\n",
    "# Connect to the index\n",
    "index = pc.Index(index_name)\n",
    "\n",
    "# Prepare vectors for insertion\n",
    "vectors = []\n",
    "for i, (text, emb) in enumerate(zip(texts, embeddings)):\n",
    "    entry_id = text.split(\":\")[0].strip()  # Unique ID for each text\n",
    "    vectors.append({\n",
    "        \"id\": entry_id,\n",
    "        \"values\": emb,  # Directly use emb (entire embedding)\n",
    "        \"metadata\": {'text': text}\n",
    "    })\n",
    "\n",
    "# Upsert into Pinecone\n",
    "index.upsert(\n",
    "    vectors=vectors,\n",
    "    namespace=\"ns1\"\n",
    ")"
   ]
  },
  {
   "cell_type": "code",
   "execution_count": null,
   "id": "cb353a20",
   "metadata": {},
   "outputs": [],
   "source": []
  },
  {
   "cell_type": "markdown",
   "id": "978c769f",
   "metadata": {},
   "source": [
    "## Get Closest documents"
   ]
  },
  {
   "cell_type": "code",
   "execution_count": null,
   "id": "34ba1c35",
   "metadata": {},
   "outputs": [],
   "source": []
  },
  {
   "cell_type": "code",
   "execution_count": 18,
   "id": "80691695",
   "metadata": {},
   "outputs": [],
   "source": [
    "output = embedding_model.embed_documents([\"Is Cappuccino lactose-free?\"])"
   ]
  },
  {
   "cell_type": "code",
   "execution_count": 19,
   "id": "1f15f8fa",
   "metadata": {},
   "outputs": [],
   "source": [
    "embeding = output[0]"
   ]
  },
  {
   "cell_type": "code",
   "execution_count": 20,
   "id": "a31458a2",
   "metadata": {},
   "outputs": [
    {
     "data": {
      "text/plain": [
       "384"
      ]
     },
     "execution_count": 20,
     "metadata": {},
     "output_type": "execute_result"
    }
   ],
   "source": [
    "len(embeding)"
   ]
  },
  {
   "cell_type": "code",
   "execution_count": 21,
   "id": "0571221f",
   "metadata": {},
   "outputs": [
    {
     "name": "stdout",
     "output_type": "stream",
     "text": [
      "{'matches': [{'id': 'Cappuccino',\n",
      "              'metadata': {'text': 'Cappuccino : A rich and creamy cappuccino '\n",
      "                                   'made with freshly brewed espresso, steamed '\n",
      "                                   'milk, and a frothy milk cap. This '\n",
      "                                   'delightful drink offers a perfect balance '\n",
      "                                   'of bold coffee flavor and smooth milk, '\n",
      "                                   'making it an ideal companion for relaxing '\n",
      "                                   'mornings or lively conversations. -- '\n",
      "                                   \"Ingredients: ['Espresso', 'Steamed Milk', \"\n",
      "                                   \"'Milk Foam'] -- Price: 4.5 -- rating: 4.7\"},\n",
      "              'score': 0.632982314,\n",
      "              'values': []},\n",
      "             {'id': 'Sugar Free Vanilla syrup',\n",
      "              'metadata': {'text': 'Sugar Free Vanilla syrup : Enjoy the sweet '\n",
      "                                   'flavor of vanilla without the sugar, '\n",
      "                                   'making it perfect for your coffee or '\n",
      "                                   'dessert. This syrup offers a guilt-free '\n",
      "                                   'way to enhance your beverages, ensuring '\n",
      "                                   'you never miss out on flavor. -- '\n",
      "                                   \"Ingredients: ['Water', 'Natural Flavors', \"\n",
      "                                   \"'Sucralose'] -- Price: 1.5 -- rating: 4.4\"},\n",
      "              'score': 0.410232514,\n",
      "              'values': []},\n",
      "             {'id': 'Latte',\n",
      "              'metadata': {'text': 'Latte : Smooth and creamy, our latte '\n",
      "                                   'combines rich espresso with velvety '\n",
      "                                   'steamed milk, creating a perfect balance '\n",
      "                                   'of flavor and texture. Enjoy it as a '\n",
      "                                   'comforting treat any time of day, whether '\n",
      "                                   \"you're starting your morning or taking a \"\n",
      "                                   \"midday break. -- Ingredients: ['Espresso', \"\n",
      "                                   \"'Steamed Milk', 'Milk Foam'] -- Price: \"\n",
      "                                   '4.75 -- rating: 4.8'},\n",
      "              'score': 0.401312619,\n",
      "              'values': []}],\n",
      " 'namespace': 'ns1',\n",
      " 'usage': {'read_units': 1}}\n"
     ]
    }
   ],
   "source": [
    "results = index.query(\n",
    "    namespace=\"ns1\",\n",
    "    vector=embeding,\n",
    "    top_k=3,\n",
    "    include_values=False,\n",
    "    include_metadata=True\n",
    ")\n",
    "\n",
    "print(results)"
   ]
  }
 ],
 "metadata": {
  "kernelspec": {
   "display_name": "coffee",
   "language": "python",
   "name": "python3"
  },
  "language_info": {
   "codemirror_mode": {
    "name": "ipython",
    "version": 3
   },
   "file_extension": ".py",
   "mimetype": "text/x-python",
   "name": "python",
   "nbconvert_exporter": "python",
   "pygments_lexer": "ipython3",
   "version": "3.11.11"
  }
 },
 "nbformat": 4,
 "nbformat_minor": 5
}
