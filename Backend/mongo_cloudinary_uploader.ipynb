{
 "cells": [
  {
   "cell_type": "code",
   "execution_count": 1,
   "id": "49ffbfc4",
   "metadata": {},
   "outputs": [
    {
     "data": {
      "text/plain": [
       "True"
      ]
     },
     "execution_count": 1,
     "metadata": {},
     "output_type": "execute_result"
    }
   ],
   "source": [
    "import os\n",
    "import dotenv\n",
    "import cloudinary\n",
    "import cloudinary.uploader\n",
    "import pandas as pd\n",
    "from pymongo import MongoClient\n",
    "# Load environment variables\n",
    "dotenv.load_dotenv()"
   ]
  },
  {
   "cell_type": "code",
   "execution_count": 2,
   "id": "a27e48f9",
   "metadata": {},
   "outputs": [],
   "source": [
    "# MongoDB Setup\n",
    "mongo_uri = os.getenv(\"MONGO_URI\")  # From .env\n",
    "client = MongoClient(mongo_uri)\n",
    "db = client[\"coffeeapp\"]  # Database Name\n",
    "products_collection = db[\"products\"]  # Collection Name"
   ]
  },
  {
   "cell_type": "markdown",
   "id": "426a06fa",
   "metadata": {},
   "source": [
    "# Cloudinary setup"
   ]
  },
  {
   "cell_type": "code",
   "execution_count": 3,
   "id": "1cd22fb9",
   "metadata": {
    "vscode": {
     "languageId": "javascript"
    }
   },
   "outputs": [
    {
     "data": {
      "text/plain": [
       "<cloudinary.Config at 0x19dec2c9650>"
      ]
     },
     "execution_count": 3,
     "metadata": {},
     "output_type": "execute_result"
    }
   ],
   "source": [
    "\n",
    "cloudinary.config(\n",
    "  cloud_name=os.getenv(\"CLOUDINARY_CLOUD_NAME\"),\n",
    "  api_key=os.getenv(\"CLOUDINARY_API_KEY\"),\n",
    "  api_secret=os.getenv(\"CLOUDINARY_API_SECRET\")\n",
    ")\n",
    "\n"
   ]
  },
  {
   "cell_type": "markdown",
   "id": "85213aa9",
   "metadata": {},
   "source": [
    "# Upload Data"
   ]
  },
  {
   "cell_type": "code",
   "execution_count": 4,
   "id": "7e0c06e4",
   "metadata": {},
   "outputs": [],
   "source": [
    "image_folder_path = './products/images/'"
   ]
  },
  {
   "cell_type": "code",
   "execution_count": 5,
   "id": "5f98b7ed",
   "metadata": {},
   "outputs": [
    {
     "data": {
      "text/html": [
       "<div>\n",
       "<style scoped>\n",
       "    .dataframe tbody tr th:only-of-type {\n",
       "        vertical-align: middle;\n",
       "    }\n",
       "\n",
       "    .dataframe tbody tr th {\n",
       "        vertical-align: top;\n",
       "    }\n",
       "\n",
       "    .dataframe thead th {\n",
       "        text-align: right;\n",
       "    }\n",
       "</style>\n",
       "<table border=\"1\" class=\"dataframe\">\n",
       "  <thead>\n",
       "    <tr style=\"text-align: right;\">\n",
       "      <th></th>\n",
       "      <th>name</th>\n",
       "      <th>category</th>\n",
       "      <th>description</th>\n",
       "      <th>ingredients</th>\n",
       "      <th>price</th>\n",
       "      <th>rating</th>\n",
       "      <th>image_path</th>\n",
       "    </tr>\n",
       "  </thead>\n",
       "  <tbody>\n",
       "    <tr>\n",
       "      <th>0</th>\n",
       "      <td>Cappuccino</td>\n",
       "      <td>Coffee</td>\n",
       "      <td>A rich and creamy cappuccino made with freshly...</td>\n",
       "      <td>[Espresso, Steamed Milk, Milk Foam]</td>\n",
       "      <td>4.50</td>\n",
       "      <td>4.7</td>\n",
       "      <td>cappuccino.jpg</td>\n",
       "    </tr>\n",
       "    <tr>\n",
       "      <th>1</th>\n",
       "      <td>Jumbo Savory Scone</td>\n",
       "      <td>Bakery</td>\n",
       "      <td>Deliciously flaky and buttery, this jumbo savo...</td>\n",
       "      <td>[Flour, Butter, Cheese, Herbs, Baking Powder, ...</td>\n",
       "      <td>3.25</td>\n",
       "      <td>4.3</td>\n",
       "      <td>SavoryScone.webp</td>\n",
       "    </tr>\n",
       "  </tbody>\n",
       "</table>\n",
       "</div>"
      ],
      "text/plain": [
       "                 name category  \\\n",
       "0          Cappuccino   Coffee   \n",
       "1  Jumbo Savory Scone   Bakery   \n",
       "\n",
       "                                         description  \\\n",
       "0  A rich and creamy cappuccino made with freshly...   \n",
       "1  Deliciously flaky and buttery, this jumbo savo...   \n",
       "\n",
       "                                         ingredients  price  rating  \\\n",
       "0                [Espresso, Steamed Milk, Milk Foam]   4.50     4.7   \n",
       "1  [Flour, Butter, Cheese, Herbs, Baking Powder, ...   3.25     4.3   \n",
       "\n",
       "         image_path  \n",
       "0    cappuccino.jpg  \n",
       "1  SavoryScone.webp  "
      ]
     },
     "execution_count": 5,
     "metadata": {},
     "output_type": "execute_result"
    }
   ],
   "source": [
    "df = pd.read_json('products/products.jsonl',lines=True)\n",
    "df.head(2)"
   ]
  },
  {
   "cell_type": "code",
   "execution_count": null,
   "id": "174f72f3",
   "metadata": {},
   "outputs": [],
   "source": []
  },
  {
   "cell_type": "code",
   "execution_count": null,
   "id": "48d7da07",
   "metadata": {},
   "outputs": [],
   "source": [
    "\n",
    "def upload_image_to_cloudinary(image_path):\n",
    "    \"\"\"Uploads an image to Cloudinary and returns the image URL.\"\"\"\n",
    "    try:\n",
    "        response = cloudinary.uploader.upload(image_path)\n",
    "        return response[\"secure_url\"]\n",
    "    except Exception as e:\n",
    "        print(f\"Error uploading {image_path}: {e}\")\n",
    "        return None"
   ]
  },
  {
   "cell_type": "code",
   "execution_count": 11,
   "id": "881051e2",
   "metadata": {},
   "outputs": [
    {
     "name": "stdout",
     "output_type": "stream",
     "text": [
      "Processing: Cappuccino\n",
      "Processing: Jumbo Savory Scone\n",
      "Processing: Latte\n",
      "Processing: Chocolate Chip Biscotti\n",
      "Processing: Espresso shot\n",
      "Processing: Hazelnut Biscotti\n",
      "Processing: Chocolate Croissant\n",
      "Processing: Dark chocolate\n",
      "Processing: Cranberry Scone\n",
      "Processing: Croissant\n",
      "Processing: Almond Croissant\n",
      "Processing: Ginger Biscotti\n",
      "Processing: Oatmeal Scone\n",
      "Processing: Ginger Scone\n",
      "Processing: Chocolate syrup\n",
      "Processing: Hazelnut syrup\n",
      "Processing: Carmel syrup\n",
      "Processing: Sugar Free Vanilla syrup\n",
      "✅ Data successfully uploaded to MongoDB (coffeeapp) and Cloudinary!\n"
     ]
    }
   ],
   "source": [
    "# Process and upload data\n",
    "for index, row in df.iterrows():\n",
    "    print(f\"Processing: {row['name']}\")\n",
    "\n",
    "    image_path = os.path.join(image_folder_path, row[\"image_path\"])\n",
    "    \n",
    "    # Upload image to Cloudinary\n",
    "    image_url = upload_image_to_cloudinary(image_path)\n",
    "    \n",
    "    if image_url:\n",
    "        product_data = row.to_dict()\n",
    "        product_data.pop(\"image_path\")  # Remove local image path field\n",
    "        product_data[\"image_url\"] = image_url\n",
    "\n",
    "        # Insert into MongoDB inside `coffeeapp` project\n",
    "        products_collection.insert_one(product_data)\n",
    "\n",
    "print(\"✅ Data successfully uploaded to MongoDB (coffeeapp) and Cloudinary!\")\n",
    "    "
   ]
  },
  {
   "cell_type": "code",
   "execution_count": 11,
   "id": "264cf935",
   "metadata": {},
   "outputs": [
    {
     "name": "stdout",
     "output_type": "stream",
     "text": [
      "[{'_id': ObjectId('67a5b34dc76df69b9ce5b38c'), 'name': 'Cappuccino', 'category': 'Coffee', 'description': 'A rich and creamy cappuccino made with freshly brewed espresso, steamed milk, and a frothy milk cap. This delightful drink offers a perfect balance of bold coffee flavor and smooth milk, making it an ideal companion for relaxing mornings or lively conversations.', 'ingredients': ['Espresso', 'Steamed Milk', 'Milk Foam'], 'price': 4.5, 'rating': 4.7, 'image_url': 'https://res.cloudinary.com/df6draitv/image/upload/v1738912593/sj2r5ug9hsn0s3tyutzq.jpg'}, {'_id': ObjectId('67a5b350c76df69b9ce5b38d'), 'name': 'Jumbo Savory Scone', 'category': 'Bakery', 'description': 'Deliciously flaky and buttery, this jumbo savory scone is filled with herbs and cheese, creating a mouthwatering experience. Perfect for a hearty snack or a light lunch, it pairs beautifully with your favorite coffee or tea.', 'ingredients': ['Flour', 'Butter', 'Cheese', 'Herbs', 'Baking Powder', 'Salt'], 'price': 3.25, 'rating': 4.3, 'image_url': 'https://res.cloudinary.com/df6draitv/image/upload/v1738912595/cwyzgyfcmytusaxjihac.webp'}, {'_id': ObjectId('67a5b351c76df69b9ce5b38e'), 'name': 'Latte', 'category': 'Coffee', 'description': \"Smooth and creamy, our latte combines rich espresso with velvety steamed milk, creating a perfect balance of flavor and texture. Enjoy it as a comforting treat any time of day, whether you're starting your morning or taking a midday break.\", 'ingredients': ['Espresso', 'Steamed Milk', 'Milk Foam'], 'price': 4.75, 'rating': 4.8, 'image_url': 'https://res.cloudinary.com/df6draitv/image/upload/v1738912596/ysryht7ao7a1cwmahn5u.jpg'}, {'_id': ObjectId('67a5b351c76df69b9ce5b38f'), 'name': 'Chocolate Chip Biscotti', 'category': 'Bakery', 'description': 'Crunchy and delightful, this chocolate chip biscotti is perfect for dipping in your coffee or enjoying on its own. Each bite offers a satisfying crunch and a burst of rich chocolate, making it a favorite for any biscotti lover.', 'ingredients': ['Flour', 'Sugar', 'Chocolate Chips', 'Eggs', 'Almonds', 'Baking Powder'], 'price': 2.5, 'rating': 4.6, 'image_url': 'https://res.cloudinary.com/df6draitv/image/upload/v1738912597/vn8st6fayjgos3qbuo51.jpg'}, {'_id': ObjectId('67a5b352c76df69b9ce5b390'), 'name': 'Espresso shot', 'category': 'Coffee', 'description': 'A bold shot of rich espresso, our espresso is crafted from the finest beans to deliver a robust flavor in every sip. Perfect for a quick pick-me-up, it can also serve as a base for your favorite coffee drinks.', 'ingredients': ['Espresso'], 'price': 2.0, 'rating': 4.9, 'image_url': 'https://res.cloudinary.com/df6draitv/image/upload/v1738912598/wfasadhakuvpq88qruns.webp'}, {'_id': ObjectId('67a5b353c76df69b9ce5b391'), 'name': 'Hazelnut Biscotti', 'category': 'Bakery', 'description': 'These delicious hazelnut biscotti are perfect for a crunchy treat alongside your coffee. Infused with roasted hazelnuts, they provide a delightful nutty flavor that enhances your coffee experience.', 'ingredients': ['Flour', 'Sugar', 'Hazelnuts', 'Eggs', 'Baking Powder'], 'price': 2.75, 'rating': 4.4, 'image_url': 'https://res.cloudinary.com/df6draitv/image/upload/v1738912599/o0kzfxtfecjjo0gw4yxj.jpg'}, {'_id': ObjectId('67a5b355c76df69b9ce5b392'), 'name': 'Chocolate Croissant', 'category': 'Bakery', 'description': \"Flaky and buttery, our chocolate croissant is filled with rich chocolate, making it a delightful pastry for any time. Perfect for breakfast or an afternoon snack, it's a sweet indulgence that never disappoints.\", 'ingredients': ['Flour', 'Butter', 'Chocolate', 'Yeast', 'Sugar', 'Salt'], 'price': 3.75, 'rating': 4.8, 'image_url': 'https://res.cloudinary.com/df6draitv/image/upload/v1738912600/upurzmuxjusgmqhtslbt.jpg'}, {'_id': ObjectId('67a5b356c76df69b9ce5b393'), 'name': 'Dark chocolate', 'category': 'Drinking Chocolate', 'description': 'Rich and indulgent, our dark chocolate drinking chocolate is made with premium cocoa. This luxurious beverage is perfect for a cozy treat on a chilly day, bringing warmth and comfort with every sip.', 'ingredients': ['Cocoa Powder', 'Sugar', 'Milk'], 'price': 5.0, 'rating': 4.7, 'image_url': 'https://res.cloudinary.com/df6draitv/image/upload/v1738912601/pidkofkdqsjcgtyz6kb2.jpg'}, {'_id': ObjectId('67a5b356c76df69b9ce5b394'), 'name': 'Cranberry Scone', 'category': 'Bakery', 'description': 'This delightful cranberry scone combines sweet and tart flavors, making it perfect for a breakfast treat or afternoon snack. Soft and crumbly, it pairs wonderfully with tea or coffee for a comforting experience.', 'ingredients': ['Flour', 'Butter', 'Cranberries', 'Sugar', 'Baking Powder', 'Eggs'], 'price': 3.5, 'rating': 4.5, 'image_url': 'https://res.cloudinary.com/df6draitv/image/upload/v1738912602/rajx4crkvsgwr71lrgfc.jpg'}, {'_id': ObjectId('67a5b357c76df69b9ce5b395'), 'name': 'Croissant', 'category': 'Bakery', 'description': \"Our classic croissant is flaky and buttery, offering a delightful crunch with each bite. Whether enjoyed alone or filled with your favorite spread, it's a timeless pastry that elevates any meal.\", 'ingredients': ['Flour', 'Butter', 'Yeast', 'Sugar', 'Salt'], 'price': 3.25, 'rating': 4.7, 'image_url': 'https://res.cloudinary.com/df6draitv/image/upload/v1738912603/jxk6993vadjhdqigbrtk.jpg'}, {'_id': ObjectId('67a5b358c76df69b9ce5b396'), 'name': 'Almond Croissant', 'category': 'Bakery', 'description': 'A delightful twist on the classic croissant, filled with almond cream and topped with slivered almonds for added crunch. This indulgent treat is perfect for those who love a sweet and nutty flavor combination.', 'ingredients': ['Flour', 'Butter', 'Almond Cream', 'Sugar', 'Almonds', 'Yeast'], 'price': 4.0, 'rating': 4.8, 'image_url': 'https://res.cloudinary.com/df6draitv/image/upload/v1738912604/q75afnphf3tuftbl68lb.jpg'}, {'_id': ObjectId('67a5b359c76df69b9ce5b397'), 'name': 'Ginger Biscotti', 'category': 'Bakery', 'description': 'These spicy ginger biscotti are perfect for dipping and provide a delightful crunch with every bite. The warm flavor of ginger adds a unique twist that pairs beautifully with your favorite hot beverage.', 'ingredients': ['Flour', 'Sugar', 'Ginger', 'Eggs', 'Baking Powder'], 'price': 2.5, 'rating': 4.7, 'image_url': 'https://res.cloudinary.com/df6draitv/image/upload/v1738912605/kawpyesbw2mvrtlecnqz.webp'}, {'_id': ObjectId('67a5b35ac76df69b9ce5b398'), 'name': 'Oatmeal Scone', 'category': 'Bakery', 'description': \"Nutty and wholesome, our oatmeal scone is a perfect snack for any time. Made with rolled oats and a hint of sweetness, it's a satisfying option for those who enjoy hearty baked goods.\", 'ingredients': ['Flour', 'Oats', 'Butter', 'Sugar', 'Baking Powder', 'Eggs'], 'price': 3.25, 'rating': 4.3, 'image_url': 'https://res.cloudinary.com/df6draitv/image/upload/v1738912606/b0viozdgbctnbrhcaor4.jpg'}, {'_id': ObjectId('67a5b35bc76df69b9ce5b399'), 'name': 'Ginger Scone', 'category': 'Bakery', 'description': \"Soft and fragrant, our ginger scone is perfect for a morning treat, infused with the warm spice of ginger. It's an inviting option that pairs beautifully with a cup of tea or coffee.\", 'ingredients': ['Flour', 'Butter', 'Ginger', 'Sugar', 'Baking Powder', 'Eggs'], 'price': 3.5, 'rating': 4.5, 'image_url': 'https://res.cloudinary.com/df6draitv/image/upload/v1738912607/gcfmj420wubeilbrzoea.webp'}, {'_id': ObjectId('67a5b35cc76df69b9ce5b39a'), 'name': 'Chocolate syrup', 'category': 'Flavours', 'description': 'Our rich chocolate syrup is perfect for drizzling over desserts or adding to your favorite beverages. Its velvety texture and intense chocolate flavor make it an essential topping for any sweet creation.', 'ingredients': ['Sugar', 'Cocoa Powder', 'Water', 'Vanilla Extract'], 'price': 1.5, 'rating': 4.8, 'image_url': 'https://res.cloudinary.com/df6draitv/image/upload/v1738912608/bxhglrjrg6x7pxz98xxw.jpg'}, {'_id': ObjectId('67a5b35dc76df69b9ce5b39b'), 'name': 'Hazelnut syrup', 'category': 'Flavours', 'description': 'Add a nutty flavor to your drinks with our hazelnut syrup, perfect for lattes and desserts. Its smooth sweetness enhances a variety of beverages, making it a must-have for coffee lovers.', 'ingredients': ['Sugar', 'Water', 'Hazelnut Extract', 'Vanilla Extract'], 'price': 1.5, 'rating': 4.7, 'image_url': 'https://res.cloudinary.com/df6draitv/image/upload/v1738912609/ir8mijtaohqzc2bztogj.webp'}, {'_id': ObjectId('67a5b35dc76df69b9ce5b39c'), 'name': 'Carmel syrup', 'category': 'Flavours', 'description': 'Sweet and creamy, our caramel syrup is ideal for topping your drinks and desserts with a rich caramel flavor. This versatile syrup elevates everything from coffee to ice cream, providing a luscious touch.', 'ingredients': ['Sugar', 'Water', 'Cream', 'Butter', 'Vanilla Extract'], 'price': 1.5, 'rating': 4.9, 'image_url': 'https://res.cloudinary.com/df6draitv/image/upload/v1738912609/qejchqdcsfse6ixbtxvz.jpg'}, {'_id': ObjectId('67a5b35ec76df69b9ce5b39d'), 'name': 'Sugar Free Vanilla syrup', 'category': 'Flavours', 'description': 'Enjoy the sweet flavor of vanilla without the sugar, making it perfect for your coffee or dessert. This syrup offers a guilt-free way to enhance your beverages, ensuring you never miss out on flavor.', 'ingredients': ['Water', 'Natural Flavors', 'Sucralose'], 'price': 1.5, 'rating': 4.4, 'image_url': 'https://res.cloudinary.com/df6draitv/image/upload/v1738912610/vbiotkb3ij4crf9238sw.jpg'}]\n"
     ]
    }
   ],
   "source": [
    "products = list(products_collection.find())\n",
    "print(products)"
   ]
  },
  {
   "cell_type": "code",
   "execution_count": null,
   "id": "c2e124b3",
   "metadata": {},
   "outputs": [
    {
     "name": "stdout",
     "output_type": "stream",
     "text": [
      "{'products': [{'_id': '67a5b34dc76df69b9ce5b38c', 'name': 'Cappuccino', 'category': 'Coffee', 'description': 'A rich and creamy cappuccino made with freshly brewed espresso, steamed milk, and a frothy milk cap. This delightful drink offers a perfect balance of bold coffee flavor and smooth milk, making it an ideal companion for relaxing mornings or lively conversations.', 'ingredients': ['Espresso', 'Steamed Milk', 'Milk Foam'], 'price': 4.5, 'rating': 4.7, 'image_url': 'https://res.cloudinary.com/df6draitv/image/upload/v1738912593/sj2r5ug9hsn0s3tyutzq.jpg'}, {'_id': '67a5b350c76df69b9ce5b38d', 'name': 'Jumbo Savory Scone', 'category': 'Bakery', 'description': 'Deliciously flaky and buttery, this jumbo savory scone is filled with herbs and cheese, creating a mouthwatering experience. Perfect for a hearty snack or a light lunch, it pairs beautifully with your favorite coffee or tea.', 'ingredients': ['Flour', 'Butter', 'Cheese', 'Herbs', 'Baking Powder', 'Salt'], 'price': 3.25, 'rating': 4.3, 'image_url': 'https://res.cloudinary.com/df6draitv/image/upload/v1738912595/cwyzgyfcmytusaxjihac.webp'}, {'_id': '67a5b351c76df69b9ce5b38e', 'name': 'Latte', 'category': 'Coffee', 'description': \"Smooth and creamy, our latte combines rich espresso with velvety steamed milk, creating a perfect balance of flavor and texture. Enjoy it as a comforting treat any time of day, whether you're starting your morning or taking a midday break.\", 'ingredients': ['Espresso', 'Steamed Milk', 'Milk Foam'], 'price': 4.75, 'rating': 4.8, 'image_url': 'https://res.cloudinary.com/df6draitv/image/upload/v1738912596/ysryht7ao7a1cwmahn5u.jpg'}, {'_id': '67a5b351c76df69b9ce5b38f', 'name': 'Chocolate Chip Biscotti', 'category': 'Bakery', 'description': 'Crunchy and delightful, this chocolate chip biscotti is perfect for dipping in your coffee or enjoying on its own. Each bite offers a satisfying crunch and a burst of rich chocolate, making it a favorite for any biscotti lover.', 'ingredients': ['Flour', 'Sugar', 'Chocolate Chips', 'Eggs', 'Almonds', 'Baking Powder'], 'price': 2.5, 'rating': 4.6, 'image_url': 'https://res.cloudinary.com/df6draitv/image/upload/v1738912597/vn8st6fayjgos3qbuo51.jpg'}, {'_id': '67a5b352c76df69b9ce5b390', 'name': 'Espresso shot', 'category': 'Coffee', 'description': 'A bold shot of rich espresso, our espresso is crafted from the finest beans to deliver a robust flavor in every sip. Perfect for a quick pick-me-up, it can also serve as a base for your favorite coffee drinks.', 'ingredients': ['Espresso'], 'price': 2.0, 'rating': 4.9, 'image_url': 'https://res.cloudinary.com/df6draitv/image/upload/v1738912598/wfasadhakuvpq88qruns.webp'}, {'_id': '67a5b353c76df69b9ce5b391', 'name': 'Hazelnut Biscotti', 'category': 'Bakery', 'description': 'These delicious hazelnut biscotti are perfect for a crunchy treat alongside your coffee. Infused with roasted hazelnuts, they provide a delightful nutty flavor that enhances your coffee experience.', 'ingredients': ['Flour', 'Sugar', 'Hazelnuts', 'Eggs', 'Baking Powder'], 'price': 2.75, 'rating': 4.4, 'image_url': 'https://res.cloudinary.com/df6draitv/image/upload/v1738912599/o0kzfxtfecjjo0gw4yxj.jpg'}, {'_id': '67a5b355c76df69b9ce5b392', 'name': 'Chocolate Croissant', 'category': 'Bakery', 'description': \"Flaky and buttery, our chocolate croissant is filled with rich chocolate, making it a delightful pastry for any time. Perfect for breakfast or an afternoon snack, it's a sweet indulgence that never disappoints.\", 'ingredients': ['Flour', 'Butter', 'Chocolate', 'Yeast', 'Sugar', 'Salt'], 'price': 3.75, 'rating': 4.8, 'image_url': 'https://res.cloudinary.com/df6draitv/image/upload/v1738912600/upurzmuxjusgmqhtslbt.jpg'}, {'_id': '67a5b356c76df69b9ce5b393', 'name': 'Dark chocolate', 'category': 'Drinking Chocolate', 'description': 'Rich and indulgent, our dark chocolate drinking chocolate is made with premium cocoa. This luxurious beverage is perfect for a cozy treat on a chilly day, bringing warmth and comfort with every sip.', 'ingredients': ['Cocoa Powder', 'Sugar', 'Milk'], 'price': 5.0, 'rating': 4.7, 'image_url': 'https://res.cloudinary.com/df6draitv/image/upload/v1738912601/pidkofkdqsjcgtyz6kb2.jpg'}, {'_id': '67a5b356c76df69b9ce5b394', 'name': 'Cranberry Scone', 'category': 'Bakery', 'description': 'This delightful cranberry scone combines sweet and tart flavors, making it perfect for a breakfast treat or afternoon snack. Soft and crumbly, it pairs wonderfully with tea or coffee for a comforting experience.', 'ingredients': ['Flour', 'Butter', 'Cranberries', 'Sugar', 'Baking Powder', 'Eggs'], 'price': 3.5, 'rating': 4.5, 'image_url': 'https://res.cloudinary.com/df6draitv/image/upload/v1738912602/rajx4crkvsgwr71lrgfc.jpg'}, {'_id': '67a5b357c76df69b9ce5b395', 'name': 'Croissant', 'category': 'Bakery', 'description': \"Our classic croissant is flaky and buttery, offering a delightful crunch with each bite. Whether enjoyed alone or filled with your favorite spread, it's a timeless pastry that elevates any meal.\", 'ingredients': ['Flour', 'Butter', 'Yeast', 'Sugar', 'Salt'], 'price': 3.25, 'rating': 4.7, 'image_url': 'https://res.cloudinary.com/df6draitv/image/upload/v1738912603/jxk6993vadjhdqigbrtk.jpg'}, {'_id': '67a5b358c76df69b9ce5b396', 'name': 'Almond Croissant', 'category': 'Bakery', 'description': 'A delightful twist on the classic croissant, filled with almond cream and topped with slivered almonds for added crunch. This indulgent treat is perfect for those who love a sweet and nutty flavor combination.', 'ingredients': ['Flour', 'Butter', 'Almond Cream', 'Sugar', 'Almonds', 'Yeast'], 'price': 4.0, 'rating': 4.8, 'image_url': 'https://res.cloudinary.com/df6draitv/image/upload/v1738912604/q75afnphf3tuftbl68lb.jpg'}, {'_id': '67a5b359c76df69b9ce5b397', 'name': 'Ginger Biscotti', 'category': 'Bakery', 'description': 'These spicy ginger biscotti are perfect for dipping and provide a delightful crunch with every bite. The warm flavor of ginger adds a unique twist that pairs beautifully with your favorite hot beverage.', 'ingredients': ['Flour', 'Sugar', 'Ginger', 'Eggs', 'Baking Powder'], 'price': 2.5, 'rating': 4.7, 'image_url': 'https://res.cloudinary.com/df6draitv/image/upload/v1738912605/kawpyesbw2mvrtlecnqz.webp'}, {'_id': '67a5b35ac76df69b9ce5b398', 'name': 'Oatmeal Scone', 'category': 'Bakery', 'description': \"Nutty and wholesome, our oatmeal scone is a perfect snack for any time. Made with rolled oats and a hint of sweetness, it's a satisfying option for those who enjoy hearty baked goods.\", 'ingredients': ['Flour', 'Oats', 'Butter', 'Sugar', 'Baking Powder', 'Eggs'], 'price': 3.25, 'rating': 4.3, 'image_url': 'https://res.cloudinary.com/df6draitv/image/upload/v1738912606/b0viozdgbctnbrhcaor4.jpg'}, {'_id': '67a5b35bc76df69b9ce5b399', 'name': 'Ginger Scone', 'category': 'Bakery', 'description': \"Soft and fragrant, our ginger scone is perfect for a morning treat, infused with the warm spice of ginger. It's an inviting option that pairs beautifully with a cup of tea or coffee.\", 'ingredients': ['Flour', 'Butter', 'Ginger', 'Sugar', 'Baking Powder', 'Eggs'], 'price': 3.5, 'rating': 4.5, 'image_url': 'https://res.cloudinary.com/df6draitv/image/upload/v1738912607/gcfmj420wubeilbrzoea.webp'}, {'_id': '67a5b35cc76df69b9ce5b39a', 'name': 'Chocolate syrup', 'category': 'Flavours', 'description': 'Our rich chocolate syrup is perfect for drizzling over desserts or adding to your favorite beverages. Its velvety texture and intense chocolate flavor make it an essential topping for any sweet creation.', 'ingredients': ['Sugar', 'Cocoa Powder', 'Water', 'Vanilla Extract'], 'price': 1.5, 'rating': 4.8, 'image_url': 'https://res.cloudinary.com/df6draitv/image/upload/v1738912608/bxhglrjrg6x7pxz98xxw.jpg'}, {'_id': '67a5b35dc76df69b9ce5b39b', 'name': 'Hazelnut syrup', 'category': 'Flavours', 'description': 'Add a nutty flavor to your drinks with our hazelnut syrup, perfect for lattes and desserts. Its smooth sweetness enhances a variety of beverages, making it a must-have for coffee lovers.', 'ingredients': ['Sugar', 'Water', 'Hazelnut Extract', 'Vanilla Extract'], 'price': 1.5, 'rating': 4.7, 'image_url': 'https://res.cloudinary.com/df6draitv/image/upload/v1738912609/ir8mijtaohqzc2bztogj.webp'}, {'_id': '67a5b35dc76df69b9ce5b39c', 'name': 'Carmel syrup', 'category': 'Flavours', 'description': 'Sweet and creamy, our caramel syrup is ideal for topping your drinks and desserts with a rich caramel flavor. This versatile syrup elevates everything from coffee to ice cream, providing a luscious touch.', 'ingredients': ['Sugar', 'Water', 'Cream', 'Butter', 'Vanilla Extract'], 'price': 1.5, 'rating': 4.9, 'image_url': 'https://res.cloudinary.com/df6draitv/image/upload/v1738912609/qejchqdcsfse6ixbtxvz.jpg'}, {'_id': '67a5b35ec76df69b9ce5b39d', 'name': 'Sugar Free Vanilla syrup', 'category': 'Flavours', 'description': 'Enjoy the sweet flavor of vanilla without the sugar, making it perfect for your coffee or dessert. This syrup offers a guilt-free way to enhance your beverages, ensuring you never miss out on flavor.', 'ingredients': ['Water', 'Natural Flavors', 'Sucralose'], 'price': 1.5, 'rating': 4.4, 'image_url': 'https://res.cloudinary.com/df6draitv/image/upload/v1738912610/vbiotkb3ij4crf9238sw.jpg'}]}\n"
     ]
    }
   ],
   "source": [
    "products = list(products_collection.find())  # Fetch all products\n",
    "for product in products:\n",
    "    product[\"_id\"] = str(product[\"_id\"])\n",
    "print({\"products\": products})"
   ]
  }
 ],
 "metadata": {
  "kernelspec": {
   "display_name": "coffee",
   "language": "python",
   "name": "python3"
  },
  "language_info": {
   "codemirror_mode": {
    "name": "ipython",
    "version": 3
   },
   "file_extension": ".py",
   "mimetype": "text/x-python",
   "name": "python",
   "nbconvert_exporter": "python",
   "pygments_lexer": "ipython3",
   "version": "3.11.11"
  }
 },
 "nbformat": 4,
 "nbformat_minor": 5
}
