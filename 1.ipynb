{
 "cells": [
  {
   "cell_type": "code",
   "execution_count": 1,
   "metadata": {},
   "outputs": [
    {
     "name": "stdout",
     "output_type": "stream",
     "text": [
      "c:\\Users\\Admin\\anaconda3\\envs\\coffee\\python.exe\n",
      "C:\\Program Files\\Python311\\python.exe\n",
      "C:\\msys64\\mingw64\\bin\\python.exe\n",
      "C:\\Users\\Admin\\anaconda3\\python.exe\n",
      "C:\\Users\\Admin\\AppData\\Local\\Microsoft\\WindowsApps\\python.exe\n"
     ]
    }
   ],
   "source": [
    "!where python "
   ]
  },
  {
   "cell_type": "code",
   "execution_count": 2,
   "metadata": {},
   "outputs": [
    {
     "data": {
      "text/plain": [
       "'c:\\\\Users\\\\Admin\\\\anaconda3\\\\envs\\\\coffee\\\\python.exe'"
      ]
     },
     "execution_count": 2,
     "metadata": {},
     "output_type": "execute_result"
    }
   ],
   "source": [
    "import sys\n",
    "sys.executable"
   ]
  },
  {
   "cell_type": "code",
   "execution_count": null,
   "metadata": {},
   "outputs": [
    {
     "name": "stdout",
     "output_type": "stream",
     "text": [
      "Collecting sentence-transformers\n",
      "  Downloading sentence_transformers-4.0.2-py3-none-any.whl.metadata (13 kB)\n",
      "Requirement already satisfied: transformers<5.0.0,>=4.41.0 in c:\\users\\admin\\appdata\\roaming\\python\\python311\\site-packages (from sentence-transformers) (4.46.3)\n",
      "Requirement already satisfied: tqdm in c:\\users\\admin\\appdata\\roaming\\python\\python311\\site-packages (from sentence-transformers) (4.67.1)\n",
      "Requirement already satisfied: torch>=1.11.0 in c:\\users\\admin\\appdata\\roaming\\python\\python311\\site-packages (from sentence-transformers) (2.6.0)\n",
      "Collecting scikit-learn (from sentence-transformers)\n",
      "  Downloading scikit_learn-1.6.1-cp311-cp311-win_amd64.whl.metadata (15 kB)\n",
      "Requirement already satisfied: scipy in c:\\users\\admin\\appdata\\roaming\\python\\python311\\site-packages (from sentence-transformers) (1.15.1)\n",
      "Requirement already satisfied: huggingface-hub>=0.20.0 in c:\\users\\admin\\anaconda3\\envs\\coffee\\lib\\site-packages (from sentence-transformers) (0.28.1)\n",
      "Requirement already satisfied: Pillow in c:\\users\\admin\\appdata\\roaming\\python\\python311\\site-packages (from sentence-transformers) (10.4.0)\n",
      "Requirement already satisfied: typing_extensions>=4.5.0 in c:\\users\\admin\\appdata\\roaming\\python\\python311\\site-packages (from sentence-transformers) (4.12.2)\n",
      "Requirement already satisfied: filelock in c:\\users\\admin\\appdata\\roaming\\python\\python311\\site-packages (from huggingface-hub>=0.20.0->sentence-transformers) (3.13.0)\n",
      "Requirement already satisfied: fsspec>=2023.5.0 in c:\\users\\admin\\appdata\\roaming\\python\\python311\\site-packages (from huggingface-hub>=0.20.0->sentence-transformers) (2024.10.0)\n",
      "Requirement already satisfied: packaging>=20.9 in c:\\users\\admin\\appdata\\roaming\\python\\python311\\site-packages (from huggingface-hub>=0.20.0->sentence-transformers) (23.2)\n",
      "Requirement already satisfied: pyyaml>=5.1 in c:\\users\\admin\\appdata\\roaming\\python\\python311\\site-packages (from huggingface-hub>=0.20.0->sentence-transformers) (6.0)\n",
      "Requirement already satisfied: requests in c:\\users\\admin\\appdata\\roaming\\python\\python311\\site-packages (from huggingface-hub>=0.20.0->sentence-transformers) (2.32.3)\n",
      "Requirement already satisfied: networkx in c:\\users\\admin\\appdata\\roaming\\python\\python311\\site-packages (from torch>=1.11.0->sentence-transformers) (3.1)\n",
      "Requirement already satisfied: jinja2 in c:\\users\\admin\\appdata\\roaming\\python\\python311\\site-packages (from torch>=1.11.0->sentence-transformers) (3.1.2)\n",
      "Requirement already satisfied: sympy==1.13.1 in c:\\users\\admin\\appdata\\roaming\\python\\python311\\site-packages (from torch>=1.11.0->sentence-transformers) (1.13.1)\n",
      "Requirement already satisfied: mpmath<1.4,>=1.1.0 in c:\\users\\admin\\appdata\\roaming\\python\\python311\\site-packages (from sympy==1.13.1->torch>=1.11.0->sentence-transformers) (1.3.0)\n",
      "Requirement already satisfied: colorama in c:\\users\\admin\\appdata\\roaming\\python\\python311\\site-packages (from tqdm->sentence-transformers) (0.4.6)\n",
      "Requirement already satisfied: numpy>=1.17 in c:\\users\\admin\\appdata\\roaming\\python\\python311\\site-packages (from transformers<5.0.0,>=4.41.0->sentence-transformers) (1.26.4)\n",
      "Requirement already satisfied: regex!=2019.12.17 in c:\\users\\admin\\appdata\\roaming\\python\\python311\\site-packages (from transformers<5.0.0,>=4.41.0->sentence-transformers) (2024.9.11)\n",
      "Requirement already satisfied: tokenizers<0.21,>=0.20 in c:\\users\\admin\\appdata\\roaming\\python\\python311\\site-packages (from transformers<5.0.0,>=4.41.0->sentence-transformers) (0.20.3)\n",
      "Requirement already satisfied: safetensors>=0.4.1 in c:\\users\\admin\\appdata\\roaming\\python\\python311\\site-packages (from transformers<5.0.0,>=4.41.0->sentence-transformers) (0.4.3)\n",
      "Collecting joblib>=1.2.0 (from scikit-learn->sentence-transformers)\n",
      "  Downloading joblib-1.4.2-py3-none-any.whl.metadata (5.4 kB)\n",
      "Requirement already satisfied: threadpoolctl>=3.1.0 in c:\\users\\admin\\appdata\\roaming\\python\\python311\\site-packages (from scikit-learn->sentence-transformers) (3.1.0)\n",
      "Requirement already satisfied: MarkupSafe>=2.0 in c:\\users\\admin\\appdata\\roaming\\python\\python311\\site-packages (from jinja2->torch>=1.11.0->sentence-transformers) (2.1.3)\n",
      "Requirement already satisfied: charset-normalizer<4,>=2 in c:\\users\\admin\\appdata\\roaming\\python\\python311\\site-packages (from requests->huggingface-hub>=0.20.0->sentence-transformers) (3.0.1)\n",
      "Requirement already satisfied: idna<4,>=2.5 in c:\\users\\admin\\appdata\\roaming\\python\\python311\\site-packages (from requests->huggingface-hub>=0.20.0->sentence-transformers) (2.10)\n",
      "Requirement already satisfied: urllib3<3,>=1.21.1 in c:\\users\\admin\\appdata\\roaming\\python\\python311\\site-packages (from requests->huggingface-hub>=0.20.0->sentence-transformers) (1.26.20)\n",
      "Requirement already satisfied: certifi>=2017.4.17 in c:\\users\\admin\\appdata\\roaming\\python\\python311\\site-packages (from requests->huggingface-hub>=0.20.0->sentence-transformers) (2025.1.31)\n",
      "Downloading sentence_transformers-4.0.2-py3-none-any.whl (340 kB)\n",
      "   ---------------------------------------- 0.0/340.6 kB ? eta -:--:--\n",
      "   --- ------------------------------------ 30.7/340.6 kB 1.3 MB/s eta 0:00:01\n",
      "   ---------- ----------------------------- 92.2/340.6 kB 1.1 MB/s eta 0:00:01\n",
      "   ---------------------------- ----------- 245.8/340.6 kB 1.9 MB/s eta 0:00:01\n",
      "   ---------------------------------------- 340.6/340.6 kB 2.3 MB/s eta 0:00:00\n",
      "Downloading scikit_learn-1.6.1-cp311-cp311-win_amd64.whl (11.1 MB)\n",
      "   ---------------------------------------- 0.0/11.1 MB ? eta -:--:--\n",
      "   - -------------------------------------- 0.5/11.1 MB 10.2 MB/s eta 0:00:02\n",
      "   ---- ----------------------------------- 1.3/11.1 MB 13.8 MB/s eta 0:00:01\n",
      "   -------- ------------------------------- 2.3/11.1 MB 16.0 MB/s eta 0:00:01\n",
      "   ------------ --------------------------- 3.4/11.1 MB 17.9 MB/s eta 0:00:01\n",
      "   ------------- -------------------------- 3.7/11.1 MB 18.3 MB/s eta 0:00:01\n",
      "   ------------- -------------------------- 3.7/11.1 MB 18.3 MB/s eta 0:00:01\n",
      "   --------------------- ------------------ 6.0/11.1 MB 18.2 MB/s eta 0:00:01\n",
      "   --------------------- ------------------ 6.0/11.1 MB 18.2 MB/s eta 0:00:01\n",
      "   ----------------------- ---------------- 6.7/11.1 MB 15.8 MB/s eta 0:00:01\n",
      "   ------------------------------ --------- 8.6/11.1 MB 18.3 MB/s eta 0:00:01\n",
      "   ---------------------------------- ----- 9.7/11.1 MB 19.4 MB/s eta 0:00:01\n",
      "   -------------------------------------- - 10.7/11.1 MB 20.5 MB/s eta 0:00:01\n",
      "   ---------------------------------------- 11.1/11.1 MB 19.9 MB/s eta 0:00:00\n",
      "Downloading joblib-1.4.2-py3-none-any.whl (301 kB)\n",
      "   ---------------------------------------- 0.0/301.8 kB ? eta -:--:--\n",
      "   --------------------------------------- 301.8/301.8 kB 19.4 MB/s eta 0:00:00\n",
      "Installing collected packages: joblib, scikit-learn, sentence-transformers\n",
      "Successfully installed joblib-1.4.2 scikit-learn-1.6.1 sentence-transformers-4.0.2\n",
      "Note: you may need to restart the kernel to use updated packages.\n"
     ]
    },
    {
     "name": "stderr",
     "output_type": "stream",
     "text": [
      "ERROR: pip's dependency resolver does not currently take into account all the packages that are installed. This behaviour is the source of the following dependency conflicts.\n",
      "autoviz 0.1.803 requires matplotlib<=3.7.4, but you have matplotlib 3.10.0 which is incompatible.\n",
      "autoviz 0.1.803 requires xgboost<1.7,>=0.82, but you have xgboost 2.1.3 which is incompatible.\n",
      "\n",
      "[notice] A new release of pip is available: 24.0 -> 25.0.1\n",
      "[notice] To update, run: python.exe -m pip install --upgrade pip\n"
     ]
    }
   ],
   "source": [
    "# %pip install pymongo\n",
    "# %pip install cloudinary\n",
    "# %pip install python-dotenv\n",
    "# %pip install fastapi\n",
    "# %pip install uvicorn\n",
    "# %pip install pinecone-client\n",
    "# %pip install scikit-learn\n",
    "# %pip install langchain\n",
    "# %pip install langchain-community\n",
    "# %pip install langchain-groq\n",
    "# %pip install sentence-transformers\n",
    "# %pip install mlxtend\n",
    "# %pip install pandas\n",
    "# %pip install pprintpp\n",
    "\n"
   ]
  },
  {
   "cell_type": "code",
   "execution_count": 11,
   "metadata": {},
   "outputs": [
    {
     "name": "stdout",
     "output_type": "stream",
     "text": [
      "pymongo version: 4.11\n",
      "cloudinary version: 1.42.1\n",
      "python-dotenv version: 1.0.1\n",
      "fastapi version: 0.115.8\n",
      "uvicorn version: 0.34.0\n",
      "pinecone-client version: 5.0.1\n",
      "scikit-learn version: 1.6.1\n",
      "langchain version: 0.3.14\n",
      "langchain-community version: 0.3.14\n",
      "langchain-groq version: 0.2.3\n",
      "sentence-transformers version: 4.0.2\n",
      "mlxtend version: 0.23.1\n",
      "pandas version: 2.2.3\n",
      "pprintpp version: 0.4.0\n"
     ]
    }
   ],
   "source": [
    "import importlib.metadata\n",
    "\n",
    "def get_version(package_name):\n",
    "    try:\n",
    "        return importlib.metadata.version(package_name)\n",
    "    except importlib.metadata.PackageNotFoundError:\n",
    "        return \"Not installed\"\n",
    "    except Exception as e:\n",
    "        return str(e)\n",
    "\n",
    "packages = [\n",
    "    \"pymongo\",\n",
    "    \"cloudinary\",\n",
    "    \"python-dotenv\",\n",
    "    \"fastapi\",\n",
    "    \"uvicorn\",\n",
    "    \"pinecone-client\",\n",
    "    \"scikit-learn\",\n",
    "    \"langchain\",\n",
    "    \"langchain-community\",\n",
    "    \"langchain-groq\",\n",
    "    \"sentence-transformers\",\n",
    "    \"mlxtend\",\n",
    "    \"pandas\",\n",
    "    \"pprintpp\"\n",
    "]\n",
    "\n",
    "for pkg in packages:\n",
    "    print(f\"{pkg} version: {get_version(pkg)}\")\n"
   ]
  },
  {
   "cell_type": "code",
   "execution_count": null,
   "metadata": {},
   "outputs": [],
   "source": []
  }
 ],
 "metadata": {
  "kernelspec": {
   "display_name": "coffee",
   "language": "python",
   "name": "python3"
  },
  "language_info": {
   "codemirror_mode": {
    "name": "ipython",
    "version": 3
   },
   "file_extension": ".py",
   "mimetype": "text/x-python",
   "name": "python",
   "nbconvert_exporter": "python",
   "pygments_lexer": "ipython3",
   "version": "3.11.11"
  }
 },
 "nbformat": 4,
 "nbformat_minor": 2
}
