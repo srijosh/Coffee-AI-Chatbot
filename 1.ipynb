{
 "cells": [
  {
   "cell_type": "code",
   "execution_count": 1,
   "metadata": {},
   "outputs": [
    {
     "name": "stdout",
     "output_type": "stream",
     "text": [
      "c:\\Users\\Admin\\anaconda3\\envs\\coffee\\python.exe\n",
      "C:\\Program Files\\Python311\\python.exe\n",
      "C:\\msys64\\mingw64\\bin\\python.exe\n",
      "C:\\Users\\Admin\\anaconda3\\python.exe\n",
      "C:\\Users\\Admin\\AppData\\Local\\Microsoft\\WindowsApps\\python.exe\n"
     ]
    }
   ],
   "source": [
    "!where python "
   ]
  },
  {
   "cell_type": "code",
   "execution_count": 2,
   "metadata": {},
   "outputs": [
    {
     "data": {
      "text/plain": [
       "'c:\\\\Users\\\\Admin\\\\anaconda3\\\\envs\\\\coffee\\\\python.exe'"
      ]
     },
     "execution_count": 2,
     "metadata": {},
     "output_type": "execute_result"
    }
   ],
   "source": [
    "import sys\n",
    "sys.executable"
   ]
  },
  {
   "cell_type": "code",
   "execution_count": null,
   "metadata": {},
   "outputs": [
    {
     "name": "stdout",
     "output_type": "stream",
     "text": [
      "Requirement already satisfied: pydantic[email] in c:\\users\\admin\\appdata\\roaming\\python\\python311\\site-packages (2.10.6)\n",
      "Requirement already satisfied: annotated-types>=0.6.0 in c:\\users\\admin\\appdata\\roaming\\python\\python311\\site-packages (from pydantic[email]) (0.6.0)\n",
      "Requirement already satisfied: pydantic-core==2.27.2 in c:\\users\\admin\\appdata\\roaming\\python\\python311\\site-packages (from pydantic[email]) (2.27.2)\n",
      "Requirement already satisfied: typing-extensions>=4.12.2 in c:\\users\\admin\\appdata\\roaming\\python\\python311\\site-packages (from pydantic[email]) (4.12.2)\n",
      "Collecting email-validator>=2.0.0 (from pydantic[email])\n",
      "  Downloading email_validator-2.2.0-py3-none-any.whl.metadata (25 kB)\n",
      "Requirement already satisfied: dnspython>=2.0.0 in c:\\users\\admin\\anaconda3\\envs\\coffee\\lib\\site-packages (from email-validator>=2.0.0->pydantic[email]) (2.7.0)\n",
      "Requirement already satisfied: idna>=2.0.0 in c:\\users\\admin\\appdata\\roaming\\python\\python311\\site-packages (from email-validator>=2.0.0->pydantic[email]) (2.10)\n",
      "Downloading email_validator-2.2.0-py3-none-any.whl (33 kB)\n",
      "Installing collected packages: email-validator\n",
      "Successfully installed email-validator-2.2.0\n",
      "Note: you may need to restart the kernel to use updated packages.\n"
     ]
    },
    {
     "name": "stderr",
     "output_type": "stream",
     "text": [
      "\n",
      "[notice] A new release of pip is available: 24.0 -> 25.1.1\n",
      "[notice] To update, run: python.exe -m pip install --upgrade pip\n"
     ]
    }
   ],
   "source": [
    "# %pip install pymongo\n",
    "# %pip install cloudinary\n",
    "# %pip install python-dotenv\n",
    "# %pip install fastapi\n",
    "# %pip install uvicorn\n",
    "# %pip install pinecone-client\n",
    "# %pip install scikit-learn\n",
    "# %pip install langchain\n",
    "# %pip install langchain-community\n",
    "# %pip install langchain-groq\n",
    "# %pip install sentence-transformers\n",
    "# %pip install mlxtend\n",
    "# %pip install pandas\n",
    "# %pip install pprintpp\n",
    "# %pip install passlib[bcrypt]\n",
    "# %pip install pyjwt\n",
    "# %pip install \"pydantic[email]\""
   ]
  },
  {
   "cell_type": "code",
   "execution_count": null,
   "metadata": {},
   "outputs": [
    {
     "name": "stdout",
     "output_type": "stream",
     "text": [
      "passlib version: 1.7.4\n",
      "passlib[bcrypt] version: Not installed\n",
      "passlib[bcrypt] version: Not installed\n",
      "pyjwt version: 2.10.1\n",
      "pydantic version: 2.10.6\n",
      "pydantic[email] version: Not installed\n"
     ]
    }
   ],
   "source": [
    "import importlib.metadata\n",
    "\n",
    "def get_version(package_name):\n",
    "    try:\n",
    "        return importlib.metadata.version(package_name)\n",
    "    except importlib.metadata.PackageNotFoundError:\n",
    "        return \"Not installed\"\n",
    "    except Exception as e:\n",
    "        return str(e)\n",
    "\n",
    "packages = [\n",
    "    \"pymongo\",\n",
    "    \"cloudinary\",\n",
    "    \"python-dotenv\",\n",
    "    \"fastapi\",\n",
    "    \"uvicorn\",\n",
    "    \"pinecone-client\",\n",
    "    \"scikit-learn\",\n",
    "    \"langchain\",\n",
    "    \"langchain-community\",\n",
    "    \"langchain-groq\",\n",
    "    \"sentence-transformers\",\n",
    "    \"mlxtend\",\n",
    "    \"pandas\",\n",
    "    \"pprintpp\",\n",
    "    \"passlib\",\n",
    "    \"pyjwt\",\n",
    "    \"pydantic\"\n",
    "]\n",
    "\n",
    "for pkg in packages:\n",
    "    print(f\"{pkg} version: {get_version(pkg)}\")\n"
   ]
  },
  {
   "cell_type": "code",
   "execution_count": null,
   "metadata": {},
   "outputs": [],
   "source": []
  }
 ],
 "metadata": {
  "kernelspec": {
   "display_name": "coffee",
   "language": "python",
   "name": "python3"
  },
  "language_info": {
   "codemirror_mode": {
    "name": "ipython",
    "version": 3
   },
   "file_extension": ".py",
   "mimetype": "text/x-python",
   "name": "python",
   "nbconvert_exporter": "python",
   "pygments_lexer": "ipython3",
   "version": "3.11.11"
  }
 },
 "nbformat": 4,
 "nbformat_minor": 2
}
